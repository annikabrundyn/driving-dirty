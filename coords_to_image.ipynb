{
 "cells": [
  {
   "cell_type": "code",
   "execution_count": 1,
   "metadata": {},
   "outputs": [],
   "source": [
    "import os\n",
    "import random\n",
    "\n",
    "import numpy as np\n",
    "import pandas as pd\n",
    "\n",
    "import matplotlib\n",
    "import matplotlib.pyplot as plt\n",
    "matplotlib.rcParams['figure.figsize'] = [5, 5]\n",
    "matplotlib.rcParams['figure.dpi'] = 200\n",
    "\n",
    "import torch\n",
    "import torch.nn as nn\n",
    "import torch.nn.functional as F\n",
    "import torchvision\n",
    "\n",
    "from data_helper import UnlabeledDataset, LabeledDataset\n",
    "from helper import collate_fn, draw_box"
   ]
  },
  {
   "cell_type": "code",
   "execution_count": 2,
   "metadata": {},
   "outputs": [],
   "source": [
    "random.seed(0)\n",
    "np.random.seed(0)\n",
    "torch.manual_seed(0);"
   ]
  },
  {
   "cell_type": "code",
   "execution_count": 3,
   "metadata": {},
   "outputs": [],
   "source": [
    "# All the images are saved in image_folder\n",
    "# All the labels are saved in the annotation_csv file\n",
    "image_folder = '../data'\n",
    "annotation_csv = '../data/annotation.csv'"
   ]
  },
  {
   "cell_type": "code",
   "execution_count": 4,
   "metadata": {},
   "outputs": [],
   "source": [
    "# You shouldn't change the unlabeled_scene_index\n",
    "# The first 106 scenes are unlabeled\n",
    "unlabeled_scene_index = np.arange(106)\n",
    "# The scenes from 106 - 133 are labeled\n",
    "# You should devide the labeled_scene_index into two subsets (training and validation)\n",
    "labeled_scene_index = np.arange(106, 134)"
   ]
  },
  {
   "cell_type": "code",
   "execution_count": 5,
   "metadata": {},
   "outputs": [],
   "source": [
    "transform = torchvision.transforms.ToTensor()\n",
    "\n",
    "unlabeled_trainset = UnlabeledDataset(image_folder=image_folder, scene_index=labeled_scene_index, first_dim='sample', transform=transform)\n",
    "trainloader = torch.utils.data.DataLoader(unlabeled_trainset, batch_size=3, shuffle=True, num_workers=2)"
   ]
  },
  {
   "cell_type": "code",
   "execution_count": 6,
   "metadata": {},
   "outputs": [],
   "source": [
    "# The labeled dataset can only be retrieved by sample.\n",
    "# And all the returned data are tuple of tensors, since bounding boxes may have different size\n",
    "# You can choose whether the loader returns the extra_info. It is optional. You don't have to use it.\n",
    "labeled_trainset = LabeledDataset(image_folder=image_folder,\n",
    "                                  annotation_file=annotation_csv,\n",
    "                                  scene_index=labeled_scene_index,\n",
    "                                  transform=transform,\n",
    "                                  extra_info=True\n",
    "                                 )\n",
    "trainloader = torch.utils.data.DataLoader(labeled_trainset, batch_size=2, shuffle=True, num_workers=2, collate_fn=collate_fn)"
   ]
  },
  {
   "cell_type": "code",
   "execution_count": 7,
   "metadata": {
    "scrolled": true
   },
   "outputs": [
    {
     "name": "stdout",
     "output_type": "stream",
     "text": [
      "torch.Size([2, 6, 3, 256, 306])\n"
     ]
    }
   ],
   "source": [
    "sample, target, road_image, extra = iter(trainloader).next()\n",
    "print(torch.stack(sample).shape)"
   ]
  },
  {
   "cell_type": "markdown",
   "metadata": {},
   "source": [
    "# Bounding Box Transformation (Work in Progress)\n"
   ]
  },
  {
   "cell_type": "markdown",
   "metadata": {},
   "source": [
    "The corners are in meter and time 10 will convert them in pixels.\n",
    "\n",
    "Add 400, since the center of the image is at pixel (400, 400). \n",
    "\n",
    "The negative sign is because the y axis is reversed for matplotlib."
   ]
  },
  {
   "cell_type": "code",
   "execution_count": 8,
   "metadata": {},
   "outputs": [],
   "source": [
    "#batch = 1\n",
    "def bb_to_image(num_batches,target):\n",
    "    image_batch = []\n",
    "    for batch in range(num_batches):\n",
    "\n",
    "        # Initialize tensor to store (800 x 800) image of binary top-down view\n",
    "        tensor_grid = torch.zeros((800,800))\n",
    "\n",
    "        # Convert target coordinates from meters to pixels:\n",
    "        coordinates = target[batch]['bounding_box']*10+400\n",
    "        # Flip y axis (since the y-axis is reversed for matplotlib)\n",
    "        coordinates[0][1,:] = -coordinates[0][1,:] \n",
    "\n",
    "        # Extract a single object\n",
    "        obj_idx = 0\n",
    "        object_in_question = coordinates[obj_idx]\n",
    "\n",
    "        # Store as array, round up/down pixel coordinates and set to integers\n",
    "        object_in_question = np.array(np.around(object_in_question,0)).astype(int)\n",
    "\n",
    "        # The coordinates are ordered as follows (first quadrant wrt ego car is front left) \n",
    "        # NEED TO DOUBLE CHECK THE NAMING BUT IT WORKS\n",
    "        # FL: front left, FR: front right, BL: back left, BR: back right\n",
    "        [FL_x, FR_x, BL_x, BR_x] = [i for i in object_in_question[0]]\n",
    "        [FL_y, FR_y, BL_y, BR_y] = [i for i in object_in_question[1]]\n",
    "\n",
    "        # width of vehicle is given by the difference in y between the back left corner and the back right corner.\n",
    "        # We choose the min to make sure we start slicing at the smaller index\n",
    "        width_start = np.min([BL_y, BR_y])\n",
    "        # length of vehicle is given by the difference in x between the back left corner and the front left corner\n",
    "        length_start = np.min([BL_x, FL_x])\n",
    "\n",
    "        # Define matrix indices to slice tensor\n",
    "        indices = [width_start,width_start+np.abs(BL_y - BR_y),length_start,length_start+np.abs(BL_x - FL_x)]\n",
    "\n",
    "        # Fill in sliced tensor with 1's\n",
    "        tensor_grid[indices[0]:indices[1],indices[2]:indices[3]].fill_(1)\n",
    "\n",
    "        assert tensor_grid[indices[0]][indices[2]] == 1\n",
    "        image_batch.append(tuple([batch,tensor_grid]))\n",
    "    \n",
    "    return image_batch"
   ]
  },
  {
   "cell_type": "code",
   "execution_count": 9,
   "metadata": {
    "scrolled": true
   },
   "outputs": [],
   "source": [
    "out = bb_to_image(2,target)"
   ]
  },
  {
   "cell_type": "code",
   "execution_count": 10,
   "metadata": {},
   "outputs": [
    {
     "data": {
      "image/png": "[encoded data removed]",
      "text/plain": [
       "<Figure size 400x400 with 1 Axes>"
      ]
     },
     "metadata": {
      "needs_background": "light"
     },
     "output_type": "display_data"
    },
    {
     "data": {
      "image/png": "[encoded data removed]",
      "text/plain": [
       "<Figure size 400x400 with 1 Axes>"
      ]
     },
     "metadata": {
      "needs_background": "light"
     },
     "output_type": "display_data"
    }
   ],
   "source": [
    "# The center of image is 400 * 400\n",
    "color_list = ['b', 'g', 'orange', 'c', 'm', 'y', 'k', 'w', 'r']\n",
    "\n",
    "fig, ax = plt.subplots(figsize=(2,2))\n",
    "\n",
    "ax.imshow(out[0][1], cmap ='binary');\n",
    "# The ego car position\n",
    "ax.plot(400, 400, 'x', color=\"red\")\n",
    "\n",
    "fig, ax = plt.subplots(figsize=(2,2))\n",
    "# The ego car position\n",
    "ax.plot(400, 400, 'x', color=\"red\")\n",
    "ax.imshow(out[0][1], cmap ='binary');\n",
    "draw_box(ax, target[0]['bounding_box'][0], color=color_list[target[0]['category'][0]]) \n",
    "\n",
    "# fig, ax = plt.subplots(figsize=(2,2))\n",
    "\n",
    "# ax.imshow(road_image[batch], cmap ='binary');\n",
    "# # The ego car position\n",
    "# ax.plot(400, 400, 'x', color=\"red\")\n",
    "# draw_box(ax, target[batch]['bounding_box'][0], color=color_list[target[0]['category'][i]]) \n"
   ]
  },
  {
   "cell_type": "code",
   "execution_count": null,
   "metadata": {},
   "outputs": [],
   "source": []
  }
 ],
 "metadata": {
  "kernelspec": {
   "display_name": "Python 3",
   "language": "python",
   "name": "python3"
  },
  "language_info": {
   "codemirror_mode": {
    "name": "ipython",
    "version": 3
   },
   "file_extension": ".py",
   "mimetype": "text/x-python",
   "name": "python",
   "nbconvert_exporter": "python",
   "pygments_lexer": "ipython3",
   "version": "3.7.6"
  }
 },
 "nbformat": 4,
 "nbformat_minor": 4
}

{
 "cells": [
  {
   "cell_type": "code",
   "execution_count": 1,
   "metadata": {},
   "outputs": [],
   "source": [
    "import os\n",
    "import random\n",
    "\n",
    "import numpy as np\n",
    "import pandas as pd\n",
    "\n",
    "import matplotlib\n",
    "import matplotlib.pyplot as plt\n",
    "matplotlib.rcParams['figure.figsize'] = [5, 5]\n",
    "matplotlib.rcParams['figure.dpi'] = 200\n",
    "\n",
    "import torch\n",
    "import torch.nn as nn\n",
    "import torch.nn.functional as F\n",
    "import torchvision\n",
    "\n",
    "from data_helper import UnlabeledDataset, LabeledDataset\n",
    "from helper import collate_fn, draw_box"
   ]
  },
  {
   "cell_type": "code",
   "execution_count": 2,
   "metadata": {},
   "outputs": [],
   "source": [
    "random.seed(0)\n",
    "np.random.seed(0)\n",
    "torch.manual_seed(0);"
   ]
  },
  {
   "cell_type": "code",
   "execution_count": 3,
   "metadata": {},
   "outputs": [],
   "source": [
    "# All the images are saved in image_folder\n",
    "# All the labels are saved in the annotation_csv file\n",
    "image_folder = '../data'\n",
    "annotation_csv = '../data/annotation.csv'"
   ]
  },
  {
   "cell_type": "code",
   "execution_count": 4,
   "metadata": {},
   "outputs": [],
   "source": [
    "# You shouldn't change the unlabeled_scene_index\n",
    "# The first 106 scenes are unlabeled\n",
    "unlabeled_scene_index = np.arange(106)\n",
    "# The scenes from 106 - 133 are labeled\n",
    "# You should devide the labeled_scene_index into two subsets (training and validation)\n",
    "labeled_scene_index = np.arange(106, 134)"
   ]
  },
  {
   "cell_type": "code",
   "execution_count": 5,
   "metadata": {},
   "outputs": [],
   "source": [
    "transform = torchvision.transforms.ToTensor()\n",
    "\n",
    "unlabeled_trainset = UnlabeledDataset(image_folder=image_folder, scene_index=labeled_scene_index, first_dim='sample', transform=transform)\n",
    "trainloader = torch.utils.data.DataLoader(unlabeled_trainset, batch_size=3, shuffle=True, num_workers=2)"
   ]
  },
  {
   "cell_type": "code",
   "execution_count": 6,
   "metadata": {},
   "outputs": [],
   "source": [
    "# The labeled dataset can only be retrieved by sample.\n",
    "# And all the returned data are tuple of tensors, since bounding boxes may have different size\n",
    "# You can choose whether the loader returns the extra_info. It is optional. You don't have to use it.\n",
    "labeled_trainset = LabeledDataset(image_folder=image_folder,\n",
    "                                  annotation_file=annotation_csv,\n",
    "                                  scene_index=labeled_scene_index,\n",
    "                                  transform=transform,\n",
    "                                  extra_info=True\n",
    "                                 )\n",
    "trainloader = torch.utils.data.DataLoader(labeled_trainset, batch_size=2, shuffle=True, num_workers=2, collate_fn=collate_fn)"
   ]
  },
  {
   "cell_type": "code",
   "execution_count": 7,
   "metadata": {
    "scrolled": true
   },
   "outputs": [
    {
     "name": "stdout",
     "output_type": "stream",
     "text": [
      "torch.Size([2, 6, 3, 256, 306])\n"
     ]
    }
   ],
   "source": [
    "sample, target, road_image, extra = iter(trainloader).next()\n",
    "print(torch.stack(sample).shape)"
   ]
  },
  {
   "cell_type": "code",
   "execution_count": 8,
   "metadata": {},
   "outputs": [
    {
     "data": {
      "text/plain": [
       "{'view 1': tensor([[[0.3647, 0.3686, 0.3725,  ..., 0.3804, 0.3451, 0.3451],\n",
       "          [0.3686, 0.3686, 0.3725,  ..., 0.3725, 0.3569, 0.3569],\n",
       "          [0.3608, 0.3647, 0.3686,  ..., 0.3686, 0.3647, 0.3647],\n",
       "          ...,\n",
       "          [0.2980, 0.3020, 0.3098,  ..., 0.4510, 0.4039, 0.4039],\n",
       "          [0.3686, 0.3725, 0.3765,  ..., 0.3765, 0.3686, 0.3686],\n",
       "          [0.3922, 0.3961, 0.3961,  ..., 0.2745, 0.3020, 0.3020]],\n",
       " \n",
       "         [[0.6235, 0.6275, 0.6314,  ..., 0.5647, 0.5412, 0.5412],\n",
       "          [0.6275, 0.6275, 0.6353,  ..., 0.5647, 0.5529, 0.5529],\n",
       "          [0.6353, 0.6392, 0.6431,  ..., 0.5608, 0.5608, 0.5608],\n",
       "          ...,\n",
       "          [0.4863, 0.4902, 0.4980,  ..., 0.6627, 0.6588, 0.6588],\n",
       "          [0.5294, 0.5333, 0.5451,  ..., 0.5529, 0.5451, 0.5451],\n",
       "          [0.5333, 0.5373, 0.5412,  ..., 0.4314, 0.4196, 0.4196]],\n",
       " \n",
       "         [[1.0000, 0.9961, 1.0000,  ..., 0.8392, 0.8196, 0.8196],\n",
       "          [0.9961, 0.9961, 0.9922,  ..., 0.8353, 0.8314, 0.8314],\n",
       "          [0.9804, 0.9843, 0.9882,  ..., 0.8314, 0.8392, 0.8392],\n",
       "          ...,\n",
       "          [0.6353, 0.6392, 0.6471,  ..., 0.9059, 0.9098, 0.9098],\n",
       "          [0.7020, 0.7059, 0.7216,  ..., 0.8157, 0.7608, 0.7608],\n",
       "          [0.7294, 0.7333, 0.7451,  ..., 0.7059, 0.6157, 0.6157]]]),\n",
       " 'view 2': tensor([[[1.0000, 1.0000, 1.0000,  ..., 1.0000, 1.0000, 1.0000],\n",
       "          [1.0000, 1.0000, 1.0000,  ..., 1.0000, 1.0000, 1.0000],\n",
       "          [1.0000, 1.0000, 1.0000,  ..., 1.0000, 1.0000, 1.0000],\n",
       "          ...,\n",
       "          [0.3373, 0.3137, 0.2706,  ..., 0.8824, 0.8745, 0.8745],\n",
       "          [0.2471, 0.2314, 0.2196,  ..., 0.8745, 0.9020, 0.9020],\n",
       "          [0.2078, 0.2118, 0.2118,  ..., 0.8667, 0.9059, 0.9059]],\n",
       " \n",
       "         [[1.0000, 1.0000, 1.0000,  ..., 1.0000, 1.0000, 1.0000],\n",
       "          [1.0000, 1.0000, 1.0000,  ..., 1.0000, 1.0000, 1.0000],\n",
       "          [1.0000, 1.0000, 1.0000,  ..., 1.0000, 1.0000, 1.0000],\n",
       "          ...,\n",
       "          [0.4235, 0.3922, 0.3490,  ..., 1.0000, 0.9922, 0.9922],\n",
       "          [0.3137, 0.2980, 0.2824,  ..., 0.9961, 1.0000, 1.0000],\n",
       "          [0.2745, 0.2667, 0.2667,  ..., 0.9882, 1.0000, 1.0000]],\n",
       " \n",
       "         [[1.0000, 1.0000, 1.0000,  ..., 1.0000, 1.0000, 1.0000],\n",
       "          [1.0000, 1.0000, 1.0000,  ..., 1.0000, 1.0000, 1.0000],\n",
       "          [1.0000, 1.0000, 1.0000,  ..., 1.0000, 1.0000, 1.0000],\n",
       "          ...,\n",
       "          [0.6196, 0.5922, 0.5451,  ..., 0.9922, 1.0000, 1.0000],\n",
       "          [0.4235, 0.4078, 0.3843,  ..., 0.9725, 1.0000, 1.0000],\n",
       "          [0.3137, 0.3098, 0.3098,  ..., 0.9569, 0.9922, 0.9922]]]),\n",
       " 'view 3': tensor([[[0.4863, 0.4902, 0.5059,  ..., 0.0431, 0.1098, 0.1098],\n",
       "          [0.4902, 0.4980, 0.5098,  ..., 0.0471, 0.1020, 0.1020],\n",
       "          [0.5059, 0.5098, 0.5176,  ..., 0.0549, 0.0980, 0.0980],\n",
       "          ...,\n",
       "          [0.3490, 0.3608, 0.3765,  ..., 0.5020, 0.4980, 0.4980],\n",
       "          [0.3882, 0.3961, 0.4157,  ..., 0.4314, 0.4157, 0.4157],\n",
       "          [0.3843, 0.3961, 0.4196,  ..., 0.3882, 0.3647, 0.3647]],\n",
       " \n",
       "         [[0.7137, 0.7216, 0.7373,  ..., 0.1608, 0.1137, 0.1137],\n",
       "          [0.7216, 0.7294, 0.7412,  ..., 0.1529, 0.1059, 0.1059],\n",
       "          [0.7451, 0.7490, 0.7569,  ..., 0.1451, 0.1020, 0.1020],\n",
       "          ...,\n",
       "          [0.5686, 0.5804, 0.5961,  ..., 0.7059, 0.7451, 0.7451],\n",
       "          [0.6078, 0.6235, 0.6431,  ..., 0.6353, 0.6706, 0.6706],\n",
       "          [0.6078, 0.6196, 0.6431,  ..., 0.5961, 0.6157, 0.6157]],\n",
       " \n",
       "         [[0.9608, 0.9569, 0.9725,  ..., 0.1922, 0.1294, 0.1294],\n",
       "          [0.9569, 0.9647, 0.9686,  ..., 0.1882, 0.1216, 0.1216],\n",
       "          [0.9686, 0.9647, 0.9725,  ..., 0.1686, 0.1176, 0.1176],\n",
       "          ...,\n",
       "          [0.7608, 0.7725, 0.7882,  ..., 0.9412, 0.9569, 0.9569],\n",
       "          [0.8078, 0.8196, 0.8392,  ..., 0.8235, 0.8980, 0.8980],\n",
       "          [0.8157, 0.8275, 0.8510,  ..., 0.7529, 0.8549, 0.8549]]]),\n",
       " 'view 4': tensor([[[0.3961, 0.3961, 0.4000,  ..., 0.7490, 0.7098, 0.7098],\n",
       "          [0.4078, 0.4118, 0.4118,  ..., 0.7490, 0.7176, 0.7176],\n",
       "          [0.4235, 0.4235, 0.4235,  ..., 0.7529, 0.7216, 0.7216],\n",
       "          ...,\n",
       "          [0.4078, 0.4078, 0.4078,  ..., 0.4157, 0.4196, 0.4196],\n",
       "          [0.4000, 0.4039, 0.4039,  ..., 0.4353, 0.4275, 0.4275],\n",
       "          [0.4000, 0.4000, 0.4039,  ..., 0.4275, 0.4275, 0.4275]],\n",
       " \n",
       "         [[0.6392, 0.6392, 0.6431,  ..., 0.9843, 1.0000, 1.0000],\n",
       "          [0.6510, 0.6549, 0.6549,  ..., 0.9843, 1.0000, 1.0000],\n",
       "          [0.6706, 0.6706, 0.6706,  ..., 0.9882, 0.9961, 0.9961],\n",
       "          ...,\n",
       "          [0.6118, 0.6118, 0.6118,  ..., 0.6745, 0.6392, 0.6392],\n",
       "          [0.6039, 0.6078, 0.6078,  ..., 0.6902, 0.6627, 0.6627],\n",
       "          [0.6039, 0.6039, 0.6078,  ..., 0.6706, 0.6706, 0.6706]],\n",
       " \n",
       "         [[0.9647, 0.9647, 0.9686,  ..., 0.9882, 0.9961, 0.9961],\n",
       "          [0.9765, 0.9804, 0.9804,  ..., 0.9882, 0.9961, 0.9961],\n",
       "          [0.9843, 0.9843, 0.9843,  ..., 0.9922, 0.9882, 0.9882],\n",
       "          ...,\n",
       "          [0.8353, 0.8353, 0.8353,  ..., 0.8784, 0.8392, 0.8392],\n",
       "          [0.8275, 0.8314, 0.8314,  ..., 0.9098, 0.9451, 0.9451],\n",
       "          [0.8275, 0.8275, 0.8314,  ..., 0.9020, 1.0000, 1.0000]]]),\n",
       " 'view 5': tensor([[[1.0000, 1.0000, 1.0000,  ..., 1.0000, 1.0000, 1.0000],\n",
       "          [1.0000, 1.0000, 1.0000,  ..., 1.0000, 1.0000, 1.0000],\n",
       "          [1.0000, 1.0000, 1.0000,  ..., 1.0000, 1.0000, 1.0000],\n",
       "          ...,\n",
       "          [0.3647, 0.3647, 0.3765,  ..., 0.2863, 0.2745, 0.2784],\n",
       "          [0.3529, 0.3490, 0.3412,  ..., 0.2235, 0.2471, 0.2549],\n",
       "          [0.3333, 0.3216, 0.2980,  ..., 0.1804, 0.2039, 0.2118]],\n",
       " \n",
       "         [[1.0000, 1.0000, 1.0000,  ..., 1.0000, 1.0000, 1.0000],\n",
       "          [1.0000, 1.0000, 1.0000,  ..., 1.0000, 1.0000, 1.0000],\n",
       "          [1.0000, 1.0000, 1.0000,  ..., 1.0000, 1.0000, 1.0000],\n",
       "          ...,\n",
       "          [0.4824, 0.4824, 0.4824,  ..., 0.3412, 0.3569, 0.3608],\n",
       "          [0.4588, 0.4549, 0.4431,  ..., 0.2745, 0.3294, 0.3373],\n",
       "          [0.4314, 0.4196, 0.4000,  ..., 0.2196, 0.2902, 0.2980]],\n",
       " \n",
       "         [[1.0000, 1.0000, 1.0000,  ..., 1.0000, 1.0000, 1.0000],\n",
       "          [1.0000, 1.0000, 1.0000,  ..., 1.0000, 1.0000, 1.0000],\n",
       "          [1.0000, 1.0000, 1.0000,  ..., 1.0000, 1.0000, 1.0000],\n",
       "          ...,\n",
       "          [0.5922, 0.5922, 0.5882,  ..., 0.3843, 0.4235, 0.4275],\n",
       "          [0.5725, 0.5686, 0.5490,  ..., 0.3098, 0.3961, 0.4039],\n",
       "          [0.5490, 0.5373, 0.5059,  ..., 0.2549, 0.3451, 0.3529]]]),\n",
       " 'view 6': tensor([[[0.3412, 0.5176, 0.4431,  ..., 0.4000, 0.3686, 0.3686],\n",
       "          [0.2941, 0.4157, 0.4078,  ..., 0.4039, 0.3765, 0.3765],\n",
       "          [0.1882, 0.2353, 0.2353,  ..., 0.4196, 0.4039, 0.4039],\n",
       "          ...,\n",
       "          [0.5176, 0.5137, 0.5020,  ..., 0.3725, 0.3686, 0.3686],\n",
       "          [0.4471, 0.4392, 0.4314,  ..., 0.3647, 0.3569, 0.3569],\n",
       "          [0.3922, 0.3961, 0.3922,  ..., 0.3529, 0.3608, 0.3608]],\n",
       " \n",
       "         [[0.4039, 0.6078, 0.5843,  ..., 0.6000, 0.5686, 0.5686],\n",
       "          [0.3725, 0.5137, 0.5490,  ..., 0.6039, 0.5725, 0.5725],\n",
       "          [0.2824, 0.3490, 0.3725,  ..., 0.6157, 0.6000, 0.6000],\n",
       "          ...,\n",
       "          [0.7647, 0.7608, 0.7490,  ..., 0.5529, 0.5216, 0.5216],\n",
       "          [0.6902, 0.6863, 0.6784,  ..., 0.5451, 0.5137, 0.5137],\n",
       "          [0.6471, 0.6392, 0.6353,  ..., 0.5333, 0.5098, 0.5098]],\n",
       " \n",
       "         [[0.6039, 0.8039, 0.7804,  ..., 0.8549, 0.8275, 0.8275],\n",
       "          [0.5804, 0.7255, 0.7529,  ..., 0.8627, 0.8431, 0.8431],\n",
       "          [0.5255, 0.5765, 0.5922,  ..., 0.8863, 0.8784, 0.8784],\n",
       "          ...,\n",
       "          [0.9725, 0.9686, 0.9569,  ..., 0.6941, 0.6745, 0.6745],\n",
       "          [0.9137, 0.8980, 0.8902,  ..., 0.6863, 0.6549, 0.6549],\n",
       "          [0.8667, 0.8627, 0.8588,  ..., 0.6745, 0.6549, 0.6549]]])}"
      ]
     },
     "execution_count": 8,
     "metadata": {},
     "output_type": "execute_result"
    }
   ],
   "source": [
    "batch = 1\n",
    "\n",
    "views={}\n",
    "for i in range(len(sample[batch])):\n",
    "    views[\"view {0}\".format(i+1)]=sample[batch][i]\n",
    "    \n",
    "views"
   ]
  },
  {
   "cell_type": "markdown",
   "metadata": {},
   "source": [
    "# Bounding Box Transformation (Work in Progress)\n"
   ]
  },
  {
   "cell_type": "markdown",
   "metadata": {},
   "source": [
    "The corners are in meter and time 10 will convert them in pixels.\n",
    "\n",
    "Add 400, since the center of the image is at pixel (400, 400). \n",
    "\n",
    "The negative sign is because the y axis is reversed for matplotlib."
   ]
  },
  {
   "cell_type": "code",
   "execution_count": 9,
   "metadata": {},
   "outputs": [],
   "source": [
    "#batch = 1\n",
    "obj_idx = 0\n",
    "\n",
    "def bb_to_image(num_batches,target):\n",
    "    image_batch = []\n",
    "    for batch in range(num_batches):\n",
    "\n",
    "        # Initialize tensor to store (800 x 800) image of binary top-down view\n",
    "        tensor_grid = torch.zeros((800,800))\n",
    "\n",
    "        # Convert target coordinates from meters to pixels:\n",
    "        coordinates = target[batch]['bounding_box']*10+400\n",
    "        # Flip y axis (since the y-axis is reversed for matplotlib)\n",
    "        coordinates[0][1,:] = -coordinates[0][1,:] \n",
    "        coordinates[0][0,:] = coordinates[0][0,:] \n",
    "\n",
    "        # Extract a single object\n",
    "        object_in_question = coordinates[obj_idx]\n",
    "\n",
    "        # Store as array, round up/down pixel coordinates and set to integers\n",
    "        object_in_question = np.array(np.around(object_in_question,0)).astype(int)\n",
    "\n",
    "        # The coordinates are ordered as follows (first quadrant wrt ego car is front left) \n",
    "        # NEED TO DOUBLE CHECK THE NAMING BUT IT WORKS\n",
    "        # FL: front left, FR: front right, BL: back left, BR: back right\n",
    "        [FL_x, FR_x, BL_x, BR_x] = [i for i in object_in_question[0]]\n",
    "        [FL_y, FR_y, BL_y, BR_y] = [i for i in object_in_question[1]]\n",
    "\n",
    "        # width of vehicle is given by the difference in y between the back left corner and the back right corner.\n",
    "        # We choose the min to make sure we start slicing at the smaller index\n",
    "        width_start = np.min([BL_y, BR_y])\n",
    "        # length of vehicle is given by the difference in x between the back left corner and the front left corner\n",
    "        length_start = np.min([BL_x, FL_x])\n",
    "\n",
    "        # Define matrix indices to slice tensor\n",
    "        #indices = [width_start,width_start+np.abs(BL_y - BR_y),length_start,length_start+np.abs(BL_x - FL_x)]\n",
    "        # Define matrix indices for corners\n",
    "        indices = [[FL_x, FR_x, BL_x, BR_x],[FL_y, FR_y, BL_y, BR_y]]\n",
    "        print(indices)\n",
    "        print('x',indices[0][0],'y',indices[1][0])\n",
    "        # Fill in sliced tensor with 1's\n",
    "        for i in range(len(indices[0])):\n",
    "            print('x',indices[0][i],'y',indices[1][i])\n",
    "            tensor_grid[indices[1][i],indices[0][i]].fill_(1)\n",
    "        \n",
    "        print(tensor_grid[tensor_grid==1])\n",
    "\n",
    "        #assert tensor_grid[indices[0]][indices[2]] == 1\n",
    "        image_batch.append(tuple([batch,tensor_grid]))\n",
    "\n",
    "    return image_batch"
   ]
  },
  {
   "cell_type": "code",
   "execution_count": 10,
   "metadata": {
    "scrolled": true
   },
   "outputs": [
    {
     "name": "stdout",
     "output_type": "stream",
     "text": [
      "[[533, 533, 579, 579], [-659, -675, -657, -674]]\n",
      "x 533 y -659\n",
      "x 533 y -659\n",
      "x 533 y -675\n",
      "x 579 y -657\n",
      "x 579 y -674\n",
      "tensor([1., 1., 1., 1.])\n",
      "[[557, 557, 604, 604], [-583, -600, -584, -601]]\n",
      "x 557 y -583\n",
      "x 557 y -583\n",
      "x 557 y -600\n",
      "x 604 y -584\n",
      "x 604 y -601\n",
      "tensor([1., 1., 1., 1.])\n"
     ]
    }
   ],
   "source": [
    "out = bb_to_image(2,target)"
   ]
  },
  {
   "cell_type": "code",
   "execution_count": 11,
   "metadata": {},
   "outputs": [
    {
     "data": {
      "image/png": "[encoded data removed]",
      "text/plain": [
       "<Figure size 1000x1000 with 1 Axes>"
      ]
     },
     "metadata": {
      "needs_background": "light"
     },
     "output_type": "display_data"
    },
    {
     "data": {
      "image/png": "[encoded data removed]",
      "text/plain": [
       "<Figure size 1000x1000 with 1 Axes>"
      ]
     },
     "metadata": {
      "needs_background": "light"
     },
     "output_type": "display_data"
    }
   ],
   "source": [
    "# The center of image is 400 * 400\n",
    "color_list = ['b', 'g', 'orange', 'c', 'm', 'y', 'k', 'w', 'r']\n",
    "\n",
    "fig, ax = plt.subplots(figsize=(5,5))\n",
    "\n",
    "ax.imshow(out[0][1], cmap ='binary');\n",
    "# The ego car position\n",
    "ax.plot(400, 400, 'x', color=\"red\")\n",
    "\n",
    "fig, ax = plt.subplots(figsize=(5,5))\n",
    "# The ego car position\n",
    "ax.plot(400, 400, 'x', color=\"red\")\n",
    "ax.imshow(out[0][1], cmap ='binary');\n",
    "draw_box(ax, target[0]['bounding_box'][obj_idx], color=color_list[target[0]['category'][obj_idx]]) \n",
    "\n",
    "# fig, ax = plt.subplots(figsize=(2,2))\n",
    "\n",
    "# ax.imshow(road_image[batch], cmap ='binary');\n",
    "# # The ego car position\n",
    "# ax.plot(400, 400, 'x', color=\"red\")\n",
    "# draw_box(ax, target[batch]['bounding_box'][0], color=color_list[target[0]['category'][i]]) \n"
   ]
  }
 ],
 "metadata": {
  "kernelspec": {
   "display_name": "Python 3",
   "language": "python",
   "name": "python3"
  },
  "language_info": {
   "codemirror_mode": {
    "name": "ipython",
    "version": 3
   },
   "file_extension": ".py",
   "mimetype": "text/x-python",
   "name": "python",
   "nbconvert_exporter": "python",
   "pygments_lexer": "ipython3",
   "version": "3.7.6"
  }
 },
 "nbformat": 4,
 "nbformat_minor": 4
}

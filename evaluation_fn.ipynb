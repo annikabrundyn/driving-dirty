{
 "cells": [
  {
   "cell_type": "markdown",
   "metadata": {},
   "source": [
    "# Final competition of Deep Learning 2020 Spring\n",
    "Traffic environment semi-supervised Learning Contest\n",
    "\n",
    "## Goals\n",
    "The objective is to train a model using images captured by six different cameras attached to the same car to generate a top down view of the surrounding area. The performance of the model will be evaluated by (1) the ability of detecting objects (like car, trucks, bicycles, etc.) and (2) the ability to draw the road map layout.\n",
    "\n",
    "## Data\n",
    "You will be given two sets of data:\n",
    "\n",
    " 1. Unlabeled set: just images\n",
    " 2. Labeled set: images and the labels(bounding box and road map layout)\n",
    "\n",
    "This notebook will help you understand the dataset."
   ]
  },
  {
   "cell_type": "code",
   "execution_count": 1,
   "metadata": {},
   "outputs": [],
   "source": [
    "import os\n",
    "import random\n",
    "\n",
    "import numpy as np\n",
    "import pandas as pd\n",
    "\n",
    "import matplotlib\n",
    "import matplotlib.pyplot as plt\n",
    "matplotlib.rcParams['figure.figsize'] = [5, 5]\n",
    "matplotlib.rcParams['figure.dpi'] = 200\n",
    "\n",
    "import torch\n",
    "import torch.nn as nn\n",
    "import torch.nn.functional as F\n",
    "import torchvision\n",
    "\n",
    "from data_helper import UnlabeledDataset, LabeledDataset\n",
    "from helper import collate_fn, draw_box"
   ]
  },
  {
   "cell_type": "code",
   "execution_count": 2,
   "metadata": {},
   "outputs": [],
   "source": [
    "random.seed(0)\n",
    "np.random.seed(0)\n",
    "torch.manual_seed(0);"
   ]
  },
  {
   "cell_type": "code",
   "execution_count": 3,
   "metadata": {},
   "outputs": [],
   "source": [
    "# All the images are saved in image_folder\n",
    "# All the labels are saved in the annotation_csv file\n",
    "image_folder = '../dat/data'\n",
    "annotation_csv = '../dat/data/annotation.csv'"
   ]
  },
  {
   "cell_type": "code",
   "execution_count": 4,
   "metadata": {},
   "outputs": [],
   "source": [
    "# You shouldn't change the unlabeled_scene_index\n",
    "# The first 106 scenes are unlabeled\n",
    "unlabeled_scene_index = np.arange(106)\n",
    "# The scenes from 106 - 133 are labeled\n",
    "# You should devide the labeled_scene_index into two subsets (training and validation)\n",
    "labeled_scene_index = np.arange(106, 134)"
   ]
  },
  {
   "cell_type": "markdown",
   "metadata": {},
   "source": [
    "## Get Sample"
   ]
  },
  {
   "cell_type": "code",
   "execution_count": 5,
   "metadata": {},
   "outputs": [],
   "source": [
    "transform = torchvision.transforms.ToTensor()\n",
    "\n",
    "unlabeled_trainset = UnlabeledDataset(image_folder=image_folder, \n",
    "                                      scene_index=labeled_scene_index, \n",
    "                                      first_dim='sample', \n",
    "                                      transform=transform)\n",
    "trainloader = torch.utils.data.DataLoader(unlabeled_trainset, \n",
    "                                          batch_size=3, \n",
    "                                          shuffle=True, \n",
    "                                          num_workers=2)"
   ]
  },
  {
   "cell_type": "code",
   "execution_count": 6,
   "metadata": {},
   "outputs": [
    {
     "name": "stdout",
     "output_type": "stream",
     "text": [
      "torch.Size([3, 6, 3, 256, 306])\n"
     ]
    }
   ],
   "source": [
    "# [batch_size, 6(images per sample), 3, H, W]\n",
    "sample = iter(trainloader).next()\n",
    "print(sample.shape)"
   ]
  },
  {
   "cell_type": "markdown",
   "metadata": {},
   "source": [
    "## Get individual image"
   ]
  },
  {
   "cell_type": "code",
   "execution_count": 7,
   "metadata": {},
   "outputs": [],
   "source": [
    "unlabeled_trainset = UnlabeledDataset(image_folder=image_folder, scene_index=unlabeled_scene_index, first_dim='image', transform=transform)\n",
    "trainloader = torch.utils.data.DataLoader(unlabeled_trainset, batch_size=2, shuffle=True, num_workers=2)"
   ]
  },
  {
   "cell_type": "code",
   "execution_count": 8,
   "metadata": {},
   "outputs": [
    {
     "name": "stdout",
     "output_type": "stream",
     "text": [
      "torch.Size([2, 3, 256, 306])\n"
     ]
    }
   ],
   "source": [
    "# [batch_size, 3, H, W]\n",
    "image, camera_index = iter(trainloader).next()\n",
    "print(image.shape)"
   ]
  },
  {
   "cell_type": "markdown",
   "metadata": {},
   "source": [
    "# Labeled dataset"
   ]
  },
  {
   "cell_type": "code",
   "execution_count": 10,
   "metadata": {},
   "outputs": [],
   "source": [
    "# The labeled dataset can only be retrieved by sample.\n",
    "# And all the returned data are tuple of tensors, since bounding boxes may have different size\n",
    "# You can choose whether the loader returns the extra_info. It is optional. You don't have to use it.\n",
    "labeled_trainset = LabeledDataset(image_folder=image_folder,\n",
    "                                  annotation_file=annotation_csv,\n",
    "                                  scene_index=labeled_scene_index,\n",
    "                                  transform=transform,\n",
    "                                  extra_info=True\n",
    "                                 )\n",
    "trainloader = torch.utils.data.DataLoader(labeled_trainset, batch_size=2, shuffle=True, num_workers=2, collate_fn=collate_fn)"
   ]
  },
  {
   "cell_type": "code",
   "execution_count": 11,
   "metadata": {},
   "outputs": [
    {
     "name": "stdout",
     "output_type": "stream",
     "text": [
      "torch.Size([2, 6, 3, 256, 306])\n"
     ]
    }
   ],
   "source": [
    "sample, target, road_image, extra = iter(trainloader).next()\n",
    "print(torch.stack(sample).shape)"
   ]
  },
  {
   "cell_type": "markdown",
   "metadata": {},
   "source": [
    "## Evaluation Metric (Threat Score)"
   ]
  },
  {
   "cell_type": "code",
   "execution_count": 12,
   "metadata": {
    "scrolled": true
   },
   "outputs": [
    {
     "data": {
      "text/plain": [
       "<matplotlib.image.AxesImage at 0x102b64990>"
      ]
     },
     "execution_count": 12,
     "metadata": {},
     "output_type": "execute_result"
    },
    {
     "data": {
      "image/png": "[encoded data removed]",
      "text/plain": [
       "<Figure size 200x200 with 1 Axes>"
      ]
     },
     "metadata": {
      "needs_background": "light"
     },
     "output_type": "display_data"
    }
   ],
   "source": [
    "matplotlib.rcParams['figure.figsize'] = [1, 1]\n",
    "plt.imshow(road_image[0],cmap = 'binary')"
   ]
  },
  {
   "cell_type": "code",
   "execution_count": 13,
   "metadata": {},
   "outputs": [],
   "source": [
    "random_tensor = torch.rand((2,800,800))\n"
   ]
  },
  {
   "cell_type": "code",
   "execution_count": 14,
   "metadata": {},
   "outputs": [],
   "source": [
    "# Create example tensor to represent model's binary prediction output\n",
    "# Filling in values so that we can clearly see True Positives, etc. in the plots\n",
    "random_tensor = torch.rand((2,800,800))\n",
    "random_tensor[0][:300,:800].fill_(1)\n",
    "random_tensor[0][:150,:800].fill_(0)\n",
    "\n",
    "tensor = torch.full((2,800,800),0)\n",
    "tensor[random_tensor >= 0.5] = 1\n",
    "\n",
    "pred_tensor = tensor\n"
   ]
  },
  {
   "cell_type": "code",
   "execution_count": 15,
   "metadata": {},
   "outputs": [
    {
     "data": {
      "image/png": "[encoded data removed]",
      "text/plain": [
       "<Figure size 200x200 with 1 Axes>"
      ]
     },
     "metadata": {
      "needs_background": "light"
     },
     "output_type": "display_data"
    }
   ],
   "source": [
    "# Visualize Prediction\n",
    "plt.figure()\n",
    "plt.title(\"Prediction\", fontsize = 10)\n",
    "plt.imshow(pred_tensor[0],cmap = 'binary');\n"
   ]
  },
  {
   "cell_type": "code",
   "execution_count": 16,
   "metadata": {},
   "outputs": [
    {
     "data": {
      "image/png": "[encoded data removed]",
      "text/plain": [
       "<Figure size 200x200 with 1 Axes>"
      ]
     },
     "metadata": {
      "needs_background": "light"
     },
     "output_type": "display_data"
    }
   ],
   "source": [
    "# Visualize target\n",
    "plt.figure()\n",
    "plt.title(\"Target\", fontsize = 10)\n",
    "plt.imshow(road_image[0],cmap = 'binary');"
   ]
  },
  {
   "cell_type": "code",
   "execution_count": 17,
   "metadata": {},
   "outputs": [
    {
     "data": {
      "image/png": "[encoded data removed]",
      "text/plain": [
       "<Figure size 200x200 with 1 Axes>"
      ]
     },
     "metadata": {
      "needs_background": "light"
     },
     "output_type": "display_data"
    },
    {
     "data": {
      "image/png": "[encoded data removed]",
      "text/plain": [
       "<Figure size 200x200 with 1 Axes>"
      ]
     },
     "metadata": {
      "needs_background": "light"
     },
     "output_type": "display_data"
    },
    {
     "data": {
      "image/png": "[encoded data removed]",
      "text/plain": [
       "<Figure size 200x200 with 1 Axes>"
      ]
     },
     "metadata": {
      "needs_background": "light"
     },
     "output_type": "display_data"
    }
   ],
   "source": [
    "# Visualize True Positives, False Positives, False Negatives\n",
    "TP_tensor = torch.mul(pred_tensor[0],road_image[0])\n",
    "\n",
    "plt.figure()\n",
    "plt.title(\"True Positives\", fontsize = 10)\n",
    "plt.imshow(TP_tensor,cmap = 'binary');\n",
    "\n",
    "FP_tensor = torch.add(pred_tensor[0], TP_tensor, alpha = -1)\n",
    "\n",
    "plt.figure()\n",
    "plt.title(\"False Positives\", fontsize = 10)\n",
    "plt.imshow(FP_tensor,cmap = 'binary');\n",
    "\n",
    "FN_tensor = torch.add(road_image[0], TP_tensor, alpha = -1)\n",
    "\n",
    "plt.figure()\n",
    "plt.title(\"False Negatives\", fontsize = 10)\n",
    "plt.imshow(FN_tensor, cmap = 'binary');\n"
   ]
  },
  {
   "cell_type": "code",
   "execution_count": 18,
   "metadata": {},
   "outputs": [],
   "source": [
    "def threat_score(prediction, target):\n",
    "    \"\"\"\n",
    "    Inputs:\n",
    "    prediction: (batch_size, 800,800) tensor with entries in {0,1}\n",
    "    target: (batch_size,800,800) tensor with entries in {0,1} \n",
    "    \n",
    "    Calculates TP, FP, FN\n",
    "    \n",
    "    Output:\n",
    "    Average threat score \n",
    "    \"\"\"\n",
    "    \n",
    "    n = torch.stack(target).shape[0]\n",
    "    \n",
    "    # Initialize\n",
    "    sum_ts = 0\n",
    "    \n",
    "    for i in range(n):\n",
    "        # prediction * target = true positive\n",
    "        tp_tensor = torch.mul(prediction[i],target[i])\n",
    "\n",
    "        # prediction - true positive = false positive\n",
    "        fp_tensor = torch.add(prediction[i], tp_tensor[i], alpha = -1)\n",
    "\n",
    "        # target - true positive = false negative\n",
    "        fn_tensor = torch.add(target[i], tp_tensor[i], alpha = -1)\n",
    "        \n",
    "        tp = np.int(torch.sum(tp_tensor))\n",
    "        fp = np.int(torch.sum(fp_tensor))\n",
    "        fn = np.int(torch.sum(fn_tensor))\n",
    "\n",
    "        # threat score\n",
    "        ts = tp/(tp + fp + fn)\n",
    "        \n",
    "        sum_ts += ts\n",
    "\n",
    "    sum_ts /= n\n",
    "\n",
    "    return sum_ts\n"
   ]
  },
  {
   "cell_type": "code",
   "execution_count": 19,
   "metadata": {},
   "outputs": [
    {
     "data": {
      "text/plain": [
       "0.20252667863454976"
      ]
     },
     "execution_count": 19,
     "metadata": {},
     "output_type": "execute_result"
    }
   ],
   "source": [
    "threat_score(pred_tensor, road_image)"
   ]
  }
 ],
 "metadata": {
  "kernelspec": {
   "display_name": "Python 3",
   "language": "python",
   "name": "python3"
  },
  "language_info": {
   "codemirror_mode": {
    "name": "ipython",
    "version": 3
   },
   "file_extension": ".py",
   "mimetype": "text/x-python",
   "name": "python",
   "nbconvert_exporter": "python",
   "pygments_lexer": "ipython3",
   "version": "3.7.6"
  }
 },
 "nbformat": 4,
 "nbformat_minor": 4
}
